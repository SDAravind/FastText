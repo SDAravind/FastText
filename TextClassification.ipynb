{
  "nbformat": 4,
  "nbformat_minor": 0,
  "metadata": {
    "colab": {
      "name": "TextClassification.ipynb",
      "provenance": [],
      "authorship_tag": "ABX9TyOn6d4/gWHWbgNmmp12EsNI",
      "include_colab_link": true
    },
    "kernelspec": {
      "name": "python3",
      "display_name": "Python 3"
    },
    "language_info": {
      "name": "python"
    }
  },
  "cells": [
    {
      "cell_type": "markdown",
      "metadata": {
        "id": "view-in-github",
        "colab_type": "text"
      },
      "source": [
        "<a href=\"https://colab.research.google.com/github/SDAravind/FastText/blob/main/TextClassification.ipynb\" target=\"_parent\"><img src=\"https://colab.research.google.com/assets/colab-badge.svg\" alt=\"Open In Colab\"/></a>"
      ]
    },
    {
      "cell_type": "markdown",
      "source": [
        "# Learn FastText \n",
        "https://fasttext.cc/docs/en/supervised-tutorial.html\n",
        "\n"
      ],
      "metadata": {
        "id": "LZO7sHPHEmrJ"
      }
    },
    {
      "cell_type": "markdown",
      "source": [
        "## Downloading and installing fasttext"
      ],
      "metadata": {
        "id": "hKaFVwHeDpAI"
      }
    },
    {
      "cell_type": "code",
      "execution_count": null,
      "metadata": {
        "id": "baIL8X4-APYD"
      },
      "outputs": [],
      "source": [
        "!wget https://github.com/facebookresearch/fastText/archive/v0.9.2.zip\n",
        "!unzip v0.9.2.zip\n",
        "\n",
        "# !cd fastText-0.9.2\n",
        "!make fastText-0.9.2/\n",
        "!pip install fastText-0.9.2/"
      ]
    },
    {
      "cell_type": "code",
      "source": [
        "import fasttext"
      ],
      "metadata": {
        "id": "7ssBU2gXAlbU"
      },
      "execution_count": 2,
      "outputs": []
    },
    {
      "cell_type": "code",
      "source": [
        "help(fasttext.FastText)"
      ],
      "metadata": {
        "colab": {
          "base_uri": "https://localhost:8080/"
        },
        "id": "v5D8ivihAv0D",
        "outputId": "f985f763-d56c-4c47-db81-1f446f4593d8"
      },
      "execution_count": 3,
      "outputs": [
        {
          "output_type": "stream",
          "name": "stdout",
          "text": [
            "Help on module fasttext.FastText in fasttext:\n",
            "\n",
            "NAME\n",
            "    fasttext.FastText\n",
            "\n",
            "DESCRIPTION\n",
            "    # Copyright (c) 2017-present, Facebook, Inc.\n",
            "    # All rights reserved.\n",
            "    #\n",
            "    # This source code is licensed under the MIT license found in the\n",
            "    # LICENSE file in the root directory of this source tree.\n",
            "\n",
            "FUNCTIONS\n",
            "    cbow(*kargs, **kwargs)\n",
            "    \n",
            "    eprint(*args, **kwargs)\n",
            "    \n",
            "    load_model(path)\n",
            "        Load a model given a filepath and return a model object.\n",
            "    \n",
            "    read_args(arg_list, arg_dict, arg_names, default_values)\n",
            "    \n",
            "    skipgram(*kargs, **kwargs)\n",
            "    \n",
            "    supervised(*kargs, **kwargs)\n",
            "    \n",
            "    tokenize(text)\n",
            "        Given a string of text, tokenize it and return a list of tokens\n",
            "    \n",
            "    train_supervised(*kargs, **kwargs)\n",
            "        Train a supervised model and return a model object.\n",
            "        \n",
            "        input must be a filepath. The input text does not need to be tokenized\n",
            "        as per the tokenize function, but it must be preprocessed and encoded\n",
            "        as UTF-8. You might want to consult standard preprocessing scripts such\n",
            "        as tokenizer.perl mentioned here: http://www.statmt.org/wmt07/baseline.html\n",
            "        \n",
            "        The input file must must contain at least one label per line. For an\n",
            "        example consult the example datasets which are part of the fastText\n",
            "        repository such as the dataset pulled by classification-example.sh.\n",
            "    \n",
            "    train_unsupervised(*kargs, **kwargs)\n",
            "        Train an unsupervised model and return a model object.\n",
            "        \n",
            "        input must be a filepath. The input text does not need to be tokenized\n",
            "        as per the tokenize function, but it must be preprocessed and encoded\n",
            "        as UTF-8. You might want to consult standard preprocessing scripts such\n",
            "        as tokenizer.perl mentioned here: http://www.statmt.org/wmt07/baseline.html\n",
            "        \n",
            "        The input field must not contain any labels or use the specified label prefix\n",
            "        unless it is ok for those words to be ignored. For an example consult the\n",
            "        dataset pulled by the example script word-vector-example.sh, which is\n",
            "        part of the fastText repository.\n",
            "\n",
            "DATA\n",
            "    BOW = '<'\n",
            "    EOS = '</s>'\n",
            "    EOW = '>'\n",
            "    absolute_import = _Feature((2, 5, 0, 'alpha', 1), (3, 0, 0, 'alpha', 0...\n",
            "    displayed_errors = {}\n",
            "    division = _Feature((2, 2, 0, 'alpha', 2), (3, 0, 0, 'alpha', 0), 8192...\n",
            "    print_function = _Feature((2, 6, 0, 'alpha', 2), (3, 0, 0, 'alpha', 0)...\n",
            "    unicode_literals = _Feature((2, 6, 0, 'alpha', 2), (3, 0, 0, 'alpha', ...\n",
            "    unsupervised_default = {'autotuneDuration': 300, 'autotuneMetric': 'f1...\n",
            "\n",
            "FILE\n",
            "    /usr/local/lib/python3.7/dist-packages/fasttext/FastText.py\n",
            "\n",
            "\n"
          ]
        }
      ]
    },
    {
      "cell_type": "markdown",
      "source": [
        "### Download/Get and Prepare datasets"
      ],
      "metadata": {
        "id": "IEhxycC4Dzm5"
      }
    },
    {
      "cell_type": "code",
      "source": [
        "!wget https://dl.fbaipublicfiles.com/fasttext/data/cooking.stackexchange.tar.gz && tar xvzf cooking.stackexchange.tar.gz\n",
        "!head cooking.stackexchange.txt"
      ],
      "metadata": {
        "id": "bzR85QikBQwv"
      },
      "execution_count": null,
      "outputs": []
    },
    {
      "cell_type": "code",
      "source": [
        "!wc cooking.stackexchange.txt"
      ],
      "metadata": {
        "colab": {
          "base_uri": "https://localhost:8080/"
        },
        "id": "ZGSUtexPBYcI",
        "outputId": "cd5342fe-d700-4da9-f708-d34d2a3ab5f7"
      },
      "execution_count": 5,
      "outputs": [
        {
          "output_type": "stream",
          "name": "stdout",
          "text": [
            "  15404  169582 1401900 cooking.stackexchange.txt\n"
          ]
        }
      ]
    },
    {
      "cell_type": "markdown",
      "source": [
        "## Split dataset into train and validation"
      ],
      "metadata": {
        "id": "QqVVQp9XD-QO"
      }
    },
    {
      "cell_type": "code",
      "source": [
        "!head -n 12404 cooking.stackexchange.txt > cooking.train\n",
        "!tail -n 3000 cooking.stackexchange.txt > cooking.valid"
      ],
      "metadata": {
        "id": "j7QcSR0cBj0f"
      },
      "execution_count": 6,
      "outputs": []
    },
    {
      "cell_type": "markdown",
      "source": [
        "## Train the model"
      ],
      "metadata": {
        "id": "OaG_soNiEEKo"
      }
    },
    {
      "cell_type": "code",
      "source": [
        "model = fasttext.train_supervised(input=\"cooking.train\")"
      ],
      "metadata": {
        "id": "aHzBTn1xBwpl"
      },
      "execution_count": 7,
      "outputs": []
    },
    {
      "cell_type": "markdown",
      "source": [
        "Save the model"
      ],
      "metadata": {
        "id": "-HXpQRRVEMWL"
      }
    },
    {
      "cell_type": "code",
      "source": [
        "model.save_model(\"model_cooking.bin\")"
      ],
      "metadata": {
        "id": "UVVu5y-KB1Ou"
      },
      "execution_count": 8,
      "outputs": []
    },
    {
      "cell_type": "markdown",
      "source": [
        "Predict using the model"
      ],
      "metadata": {
        "id": "IUe-yKuEEJf5"
      }
    },
    {
      "cell_type": "code",
      "source": [
        "model.predict(\"Which baking dish is best to bake a banana bread ?\")"
      ],
      "metadata": {
        "colab": {
          "base_uri": "https://localhost:8080/"
        },
        "id": "9nPJtJawCB8N",
        "outputId": "a3c55a87-bbaf-42bf-ceaf-6b1743655350"
      },
      "execution_count": 9,
      "outputs": [
        {
          "output_type": "execute_result",
          "data": {
            "text/plain": [
              "(('__label__baking',), array([0.07257967]))"
            ]
          },
          "metadata": {},
          "execution_count": 9
        }
      ]
    },
    {
      "cell_type": "markdown",
      "source": [
        "Test the model"
      ],
      "metadata": {
        "id": "N-rM8Ay2EH5N"
      }
    },
    {
      "cell_type": "code",
      "source": [
        "model.test(\"cooking.valid\")"
      ],
      "metadata": {
        "colab": {
          "base_uri": "https://localhost:8080/"
        },
        "id": "Svb1AczRCETM",
        "outputId": "ae1d3447-ff56-422f-bd43-2a433ba8c72c"
      },
      "execution_count": 10,
      "outputs": [
        {
          "output_type": "execute_result",
          "data": {
            "text/plain": [
              "(3000, 0.135, 0.05838258613233386)"
            ]
          },
          "metadata": {},
          "execution_count": 10
        }
      ]
    },
    {
      "cell_type": "code",
      "source": [
        "model.predict(\"Why not put knives in the dishwasher?\", k=5)"
      ],
      "metadata": {
        "colab": {
          "base_uri": "https://localhost:8080/"
        },
        "id": "o9HYlMQPCJNk",
        "outputId": "f19443d3-21d0-4674-c09c-735b83e983bf"
      },
      "execution_count": 11,
      "outputs": [
        {
          "output_type": "execute_result",
          "data": {
            "text/plain": [
              "(('__label__food-safety',\n",
              "  '__label__baking',\n",
              "  '__label__bread',\n",
              "  '__label__substitutions',\n",
              "  '__label__equipment'),\n",
              " array([0.07451777, 0.07366108, 0.04390582, 0.0373    , 0.03408055]))"
            ]
          },
          "metadata": {},
          "execution_count": 11
        }
      ]
    },
    {
      "cell_type": "markdown",
      "source": [
        "## Making the model better"
      ],
      "metadata": {
        "id": "6VirzDLHCioI"
      }
    },
    {
      "cell_type": "markdown",
      "source": [
        "### Prepocessing the data"
      ],
      "metadata": {
        "id": "UMpRyt3FCdz5"
      }
    },
    {
      "cell_type": "code",
      "source": [
        "!cat cooking.stackexchange.txt | sed -e \"s/\\([.\\!?,'/()]\\)/ \\1 /g\" | tr \"[:upper:]\" \"[:lower:]\" > cooking.preprocessed.txt\n",
        "!head -n 12404 cooking.preprocessed.txt > cooking.train\n",
        "!tail -n 3000 cooking.preprocessed.txt > cooking.valid"
      ],
      "metadata": {
        "id": "HQPM_cuTCVOE"
      },
      "execution_count": 12,
      "outputs": []
    },
    {
      "cell_type": "markdown",
      "source": [
        "#### Train on more epochs"
      ],
      "metadata": {
        "id": "aJdzqMzZDZ7T"
      }
    },
    {
      "cell_type": "code",
      "source": [
        "model = fasttext.train_supervised(input=\"cooking.train\",  epoch=25)"
      ],
      "metadata": {
        "id": "fAuK8EScCyzV"
      },
      "execution_count": 13,
      "outputs": []
    },
    {
      "cell_type": "code",
      "source": [
        "model.test(\"cooking.valid\")"
      ],
      "metadata": {
        "colab": {
          "base_uri": "https://localhost:8080/"
        },
        "id": "A9K08qCDC47a",
        "outputId": "59f2e86c-fdf2-4974-c129-c8e64c6aa64d"
      },
      "execution_count": 14,
      "outputs": [
        {
          "output_type": "execute_result",
          "data": {
            "text/plain": [
              "(3000, 0.52, 0.22488107250973044)"
            ]
          },
          "metadata": {},
          "execution_count": 14
        }
      ]
    },
    {
      "cell_type": "markdown",
      "source": [
        "#### Train model on different learning rate"
      ],
      "metadata": {
        "id": "GrYJj-jXDeMf"
      }
    },
    {
      "cell_type": "code",
      "source": [
        "model = fasttext.train_supervised(input=\"cooking.train\", lr=1.0)"
      ],
      "metadata": {
        "id": "G9O9U193DCkQ"
      },
      "execution_count": 15,
      "outputs": []
    },
    {
      "cell_type": "code",
      "source": [
        "model.test(\"cooking.valid\")"
      ],
      "metadata": {
        "id": "I2YCtoWbF2jw"
      },
      "execution_count": null,
      "outputs": []
    },
    {
      "cell_type": "code",
      "source": [
        "model = fasttext.train_supervised(input=\"cooking.train\", lr=1.0, epoch=25)"
      ],
      "metadata": {
        "id": "7pYoOqP6DFWp"
      },
      "execution_count": 16,
      "outputs": []
    },
    {
      "cell_type": "code",
      "source": [
        "model.test(\"cooking.valid\")"
      ],
      "metadata": {
        "colab": {
          "base_uri": "https://localhost:8080/"
        },
        "id": "UHBLX48ZDHOZ",
        "outputId": "b1b9d519-cb77-4a72-cc7a-26c6cfbcbf32"
      },
      "execution_count": 17,
      "outputs": [
        {
          "output_type": "execute_result",
          "data": {
            "text/plain": [
              "(3000, 0.5843333333333334, 0.25270289750612657)"
            ]
          },
          "metadata": {},
          "execution_count": 17
        }
      ]
    },
    {
      "cell_type": "code",
      "source": [
        "model = fasttext.train_supervised(input=\"cooking.train\", lr=1.0, epoch=25, wordNgrams=2)"
      ],
      "metadata": {
        "id": "jCsx_OjoDKOA"
      },
      "execution_count": 18,
      "outputs": []
    },
    {
      "cell_type": "code",
      "source": [
        "model.test(\"cooking.valid\")"
      ],
      "metadata": {
        "colab": {
          "base_uri": "https://localhost:8080/"
        },
        "id": "y_7X1injGCHT",
        "outputId": "af682e40-6da5-4b5f-c0f0-bb26c9ff910a"
      },
      "execution_count": 19,
      "outputs": [
        {
          "output_type": "execute_result",
          "data": {
            "text/plain": [
              "(3000, 0.5996666666666667, 0.2593340060544904)"
            ]
          },
          "metadata": {},
          "execution_count": 19
        }
      ]
    },
    {
      "cell_type": "code",
      "source": [
        "model = fasttext.train_supervised(input=\"cooking.train\", lr=0.5, epoch=25, wordNgrams=2, bucket=200000, dim=50, loss='ova')"
      ],
      "metadata": {
        "id": "7_gyiXwLGEXV"
      },
      "execution_count": 20,
      "outputs": []
    },
    {
      "cell_type": "code",
      "source": [
        "model.predict(\"Which baking dish is best to bake a banana bread ?\", k=-1, threshold=0.5)"
      ],
      "metadata": {
        "colab": {
          "base_uri": "https://localhost:8080/"
        },
        "id": "SkTg1eDDGkx7",
        "outputId": "129684dc-eb17-4efa-c8f2-e620c350e610"
      },
      "execution_count": 21,
      "outputs": [
        {
          "output_type": "execute_result",
          "data": {
            "text/plain": [
              "(('__label__baking',\n",
              "  '__label__equipment',\n",
              "  '__label__bread',\n",
              "  '__label__bananas'),\n",
              " array([1.00001001, 0.97967768, 0.97632056, 0.8872146 ]))"
            ]
          },
          "metadata": {},
          "execution_count": 21
        }
      ]
    },
    {
      "cell_type": "code",
      "source": [
        ""
      ],
      "metadata": {
        "id": "_rVGtnpiGskS"
      },
      "execution_count": null,
      "outputs": []
    }
  ]
}